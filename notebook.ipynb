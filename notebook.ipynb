{
 "cells": [
  {
   "cell_type": "markdown",
   "metadata": {
    "id": "CztodpmQM11q"
   },
   "source": [
    "# Let's try HuggingFace Transformers NLP Pipelines!\n"
   ]
  },
  {
   "cell_type": "code",
   "execution_count": null,
   "metadata": {
    "id": "6dtAhiTAMmYN"
   },
   "outputs": [],
   "source": [
    "!pip install transformers"
   ]
  },
  {
   "cell_type": "code",
   "execution_count": 28,
   "metadata": {
    "id": "4HmAFHs9hmpc"
   },
   "outputs": [],
   "source": [
    "from transformers import pipeline\n",
    "import warnings\n",
    "warnings.filterwarnings(\"ignore\")"
   ]
  },
  {
   "cell_type": "code",
   "execution_count": 29,
   "metadata": {
    "colab": {
     "base_uri": "https://localhost:8080/"
    },
    "id": "w3g0V_WTMpwB",
    "outputId": "0abdc172-593d-4aff-9a88-c0ad0e2f5c56"
   },
   "outputs": [
    {
     "name": "stderr",
     "output_type": "stream",
     "text": [
      "No model was supplied, defaulted to facebook/bart-large-mnli and revision c626438 (https://huggingface.co/facebook/bart-large-mnli).\n",
      "Using a pipeline without specifying a model name and revision in production is not recommended.\n"
     ]
    },
    {
     "data": {
      "text/plain": [
       "{'sequence': 'The Golden State Warriors have a unique style of attacking strategy',\n",
       " 'labels': ['basketball', 'construction', 'jewelry'],\n",
       " 'scores': [0.8819502592086792, 0.07990844547748566, 0.03814127668738365]}"
      ]
     },
     "execution_count": 29,
     "metadata": {},
     "output_type": "execute_result"
    }
   ],
   "source": [
    "classifier = pipeline(\"zero-shot-classification\")\n",
    "classifier(\n",
    "    \"The Golden State Warriors have a unique style of attacking strategy\",\n",
    "    candidate_labels=[\"jewelry\", \"basketball\", \"construction\"],\n",
    ")"
   ]
  },
  {
   "cell_type": "code",
   "execution_count": 30,
   "metadata": {
    "colab": {
     "base_uri": "https://localhost:8080/"
    },
    "id": "Qwkn1wZaNCxn",
    "outputId": "ea6a90ea-a0de-4578-af33-3feb25be274d"
   },
   "outputs": [
    {
     "name": "stderr",
     "output_type": "stream",
     "text": [
      "Setting `pad_token_id` to `eos_token_id`:50256 for open-end generation.\n"
     ]
    },
    {
     "name": "stdout",
     "output_type": "stream",
     "text": [
      "In public speaking, the most common mistakes that beginner make are  scenario  and  in the real world, situation  .  If I had to make a simple scenario about my family  the first day of school  and\n"
     ]
    }
   ],
   "source": [
    "generator = pipeline(\"text-generation\", model=\"gpt2\")\n",
    "text = generator(\"In public speaking, the most common mistakes that beginner make are \")\n",
    "\n",
    "print(text[0]['generated_text'])"
   ]
  },
  {
   "cell_type": "code",
   "execution_count": 31,
   "metadata": {
    "colab": {
     "base_uri": "https://localhost:8080/"
    },
    "id": "-Ab97He7Dd0k",
    "outputId": "74f320eb-99cc-4389-a2f6-0b37d9c9137a"
   },
   "outputs": [
    {
     "name": "stderr",
     "output_type": "stream",
     "text": [
      "No model was supplied, defaulted to distilbert/distilroberta-base and revision ec58a5b (https://huggingface.co/distilbert/distilroberta-base).\n",
      "Using a pipeline without specifying a model name and revision in production is not recommended.\n",
      "Some weights of the model checkpoint at distilbert/distilroberta-base were not used when initializing RobertaForMaskedLM: ['roberta.pooler.dense.bias', 'roberta.pooler.dense.weight']\n",
      "- This IS expected if you are initializing RobertaForMaskedLM from the checkpoint of a model trained on another task or with another architecture (e.g. initializing a BertForSequenceClassification model from a BertForPreTraining model).\n",
      "- This IS NOT expected if you are initializing RobertaForMaskedLM from the checkpoint of a model that you expect to be exactly identical (initializing a BertForSequenceClassification model from a BertForSequenceClassification model).\n"
     ]
    },
    {
     "data": {
      "text/plain": [
       "[{'score': 0.434360533952713,\n",
       "  'token': 762,\n",
       "  'token_str': ' key',\n",
       "  'sequence': 'Ronaldo can shoot the key to winning the game'},\n",
       " {'score': 0.3314211964607239,\n",
       "  'token': 10654,\n",
       "  'token_str': ' keys',\n",
       "  'sequence': 'Ronaldo can shoot the keys to winning the game'},\n",
       " {'score': 0.021436648443341255,\n",
       "  'token': 3704,\n",
       "  'token_str': ' jump',\n",
       "  'sequence': 'Ronaldo can shoot the jump to winning the game'},\n",
       " {'score': 0.017058398574590683,\n",
       "  'token': 3682,\n",
       "  'token_str': ' ticket',\n",
       "  'sequence': 'Ronaldo can shoot the ticket to winning the game'},\n",
       " {'score': 0.01585828885436058,\n",
       "  'token': 2718,\n",
       "  'token_str': ' path',\n",
       "  'sequence': 'Ronaldo can shoot the path to winning the game'}]"
      ]
     },
     "execution_count": 31,
     "metadata": {},
     "output_type": "execute_result"
    }
   ],
   "source": [
    "unmasker = pipeline(\"fill-mask\")\n",
    "unmasker(\"Ronaldo can shoot the <mask> to winning the game\", top_k=5)"
   ]
  },
  {
   "cell_type": "code",
   "execution_count": 32,
   "metadata": {
    "colab": {
     "base_uri": "https://localhost:8080/"
    },
    "id": "H-uxwPRKDhpB",
    "outputId": "a2fd0ac7-6bbf-4225-f194-3f4a1453a184"
   },
   "outputs": [
    {
     "name": "stderr",
     "output_type": "stream",
     "text": [
      "No model was supplied, defaulted to dbmdz/bert-large-cased-finetuned-conll03-english and revision f2482bf (https://huggingface.co/dbmdz/bert-large-cased-finetuned-conll03-english).\n",
      "Using a pipeline without specifying a model name and revision in production is not recommended.\n",
      "Some weights of the model checkpoint at dbmdz/bert-large-cased-finetuned-conll03-english were not used when initializing BertForTokenClassification: ['bert.pooler.dense.bias', 'bert.pooler.dense.weight']\n",
      "- This IS expected if you are initializing BertForTokenClassification from the checkpoint of a model trained on another task or with another architecture (e.g. initializing a BertForSequenceClassification model from a BertForPreTraining model).\n",
      "- This IS NOT expected if you are initializing BertForTokenClassification from the checkpoint of a model that you expect to be exactly identical (initializing a BertForSequenceClassification model from a BertForSequenceClassification model).\n"
     ]
    },
    {
     "data": {
      "text/plain": [
       "[{'entity_group': 'PER',\n",
       "  'score': 0.99634355,\n",
       "  'word': 'Ducky',\n",
       "  'start': 27,\n",
       "  'end': 32},\n",
       " {'entity_group': 'ORG',\n",
       "  'score': 0.9971001,\n",
       "  'word': 'IT Department',\n",
       "  'start': 38,\n",
       "  'end': 51}]"
      ]
     },
     "execution_count": 32,
     "metadata": {},
     "output_type": "execute_result"
    }
   ],
   "source": [
    "ner = pipeline(\"ner\", grouped_entities=True)\n",
    "ner(\"This is My bestfriend, Mr, Ducky from IT Department. He is a hustler and work harder in Aple Community Depok\")"
   ]
  },
  {
   "cell_type": "code",
   "execution_count": 33,
   "metadata": {
    "colab": {
     "base_uri": "https://localhost:8080/"
    },
    "id": "1SbkDlwfDlF5",
    "outputId": "2e714b50-c112-478d-af6f-a423a683a920"
   },
   "outputs": [
    {
     "name": "stdout",
     "output_type": "stream",
     "text": [
      "Jawaban dari bahasa indonesia: 2019\n",
      "\n",
      "Answer from english: ”Goodnight\n"
     ]
    }
   ],
   "source": [
    "qa_pipeline = pipeline(\"question-answering\", model=\"distilbert-base-cased-distilled-squad\")\n",
    "context_id = \"\"\"\n",
    "    Rafi Ramadhan Sudirman (lahir 31 Oktober 2003) adalah seorang penyanyi-penulis\n",
    "    lagu berkebangsaan Indonesia. Rafi memulai karier di industri musik sebagai\n",
    "    bagian dari grup musik Di Atas Rata-Rata generasi kedua yang diasuh oleh\n",
    "    musisi Erwin Gutawa dan Gita Gutawa. Rafi kemudian merilis debut singel pada\n",
    "    tahun 2019 bertajuk \"\"Goodnight\"\" yang menjadi singel utama dari album mini\n",
    "    perdananya Bedroom Mix, Vol 1 yang dirilis pada tahun yang sama\n",
    "    \"\"\"\n",
    "question_id = \"apa tajuk debut singel rafi?\"\n",
    "\n",
    "context_en = \"\"\"\n",
    "    Rafi Ramadhan Sudirman (born October 31, 2003) is an Indonesian singer-songwriter.\n",
    "    Rafi began his career in the music industry as part of the second-generation\n",
    "    music group Di Atas Rata-Rata, coached by musicians Erwin Gutawa and Gita Gutawa.\n",
    "    Rafi then released his debut single in 2019 titled “”Goodnight“” which became\n",
    "    the lead single from his debut mini album Bedroom Mix, Vol 1 released in the same year\"\n",
    "    \"\"\"\n",
    "question_en = \"what is the title of rafi's debut single?\"\n",
    "\n",
    "result_id = qa_pipeline(question=question_id, context=context_id)\n",
    "result_en = qa_pipeline(question=question_en, context=context_en)\n",
    "\n",
    "print(f\"Jawaban dari bahasa indonesia: {result_id['answer']}\")\n",
    "print(f\"\\nAnswer from english: {result_en['answer']}\")"
   ]
  },
  {
   "cell_type": "code",
   "execution_count": 34,
   "metadata": {
    "colab": {
     "base_uri": "https://localhost:8080/"
    },
    "id": "U3IZcIeAE41r",
    "outputId": "5763fd39-9357-4289-aadc-4510614c4ff1"
   },
   "outputs": [
    {
     "name": "stderr",
     "output_type": "stream",
     "text": [
      "No model was supplied, defaulted to distilbert/distilbert-base-uncased-finetuned-sst-2-english and revision af0f99b (https://huggingface.co/distilbert/distilbert-base-uncased-finetuned-sst-2-english).\n",
      "Using a pipeline without specifying a model name and revision in production is not recommended.\n"
     ]
    },
    {
     "data": {
      "text/plain": [
       "[{'label': 'POSITIVE', 'score': 0.9984346032142639}]"
      ]
     },
     "execution_count": 34,
     "metadata": {},
     "output_type": "execute_result"
    }
   ],
   "source": [
    "classifier = pipeline(\"sentiment-analysis\")\n",
    "classifier(\"In the Shin Tae-Yong era, there were so many good abroad players who wanted to join the national team. \")"
   ]
  },
  {
   "cell_type": "code",
   "execution_count": 40,
   "metadata": {
    "colab": {
     "base_uri": "https://localhost:8080/",
     "height": 109
    },
    "id": "rXSjHIImDptH",
    "outputId": "45136860-8d56-4152-cceb-662d72635a34"
   },
   "outputs": [
    {
     "name": "stderr",
     "output_type": "stream",
     "text": [
      "No model was supplied, defaulted to sshleifer/distilbart-cnn-12-6 and revision a4f8f3e (https://huggingface.co/sshleifer/distilbart-cnn-12-6).\n",
      "Using a pipeline without specifying a model name and revision in production is not recommended.\n"
     ]
    },
    {
     "data": {
      "application/vnd.google.colaboratory.intrinsic+json": {
       "type": "string"
      },
      "text/plain": [
       "\" The symbol of UPN “Veteran” Jakarta is in the form of a convex rectangle with a yellow base color . The blooming white jasmine flower with two blossoming petals symbolizes the nation's personality that is pure, clean and majestic throughout the ages . The blazing flames on the left and right of the logo symbolize a high and unyielding spirit . The three-colored black supports of the flame symbolize the Tridarma of Higher Education .\""
      ]
     },
     "execution_count": 40,
     "metadata": {},
     "output_type": "execute_result"
    }
   ],
   "source": [
    "summarizer = pipeline(\"summarization\")\n",
    "summarizer(\n",
    "    \"\"\"\n",
    "    The symbol of UPN “Veteran” Jakarta is in the form of a convex rectangle with\n",
    "    a yellow base color, this shape means that it can always keep up with the development\n",
    "    of the demands of the times in its work in the world of education as well as guardians,\n",
    "    supporters and followers of all the meanings contained in the UPN “Veteran” Jakarta logo.\n",
    "\n",
    "    The blooming white jasmine flower with two blossoming petals symbolizes the\n",
    "    nation's personality that is pure, clean and majestic and fragrant throughout\n",
    "    the ages. Five flower petals that bud together, symbolizing the spirit of Pancasila.\n",
    "    Two open petals symbolize the pursuit of knowledge and dedication to society.\n",
    "\n",
    "    The blazing flames on the left and right of the logo symbolize a high and\n",
    "    unyielding spirit and a burning will to achieve goals.\n",
    "\n",
    "    The three-colored black supports of the flame symbolize the Tridarma of Higher Education.\n",
    "\n",
    "    The white ribbon with the sesanti “Widya Mwat Yasa” symbolizes the sesanti\n",
    "    “Demanding knowledge in order to serve the country with a pure and clean heart and sincerity”.\n",
    "\n",
    "    The green steel cap with one yellow five-cornered star symbolizes the\n",
    "    embodiment of UPN “Veteran” as an active monument of RI “Veterans” and\n",
    "    efforts to pass on the values of 45 to the younger generation.\n",
    "    \"\"\"\n",
    ")[0]['summary_text']"
   ]
  },
  {
   "cell_type": "code",
   "execution_count": 36,
   "metadata": {
    "colab": {
     "base_uri": "https://localhost:8080/",
     "height": 54
    },
    "id": "Wxr6a3YYDtmL",
    "outputId": "80bc898e-a64c-4f9c-a341-e6951db23158"
   },
   "outputs": [
    {
     "data": {
      "application/vnd.google.colaboratory.intrinsic+json": {
       "type": "string"
      },
      "text/plain": [
       "'President Prabowo Subianto has formed 85 offices of the Free Gizi Food Service unit which is now being tested throughout the province. The Secretary of State (Sesneg) Prasetyo Hadi called the service unit prepared before the execution of the program at the beginning of January 2025.'"
      ]
     },
     "execution_count": 36,
     "metadata": {},
     "output_type": "execute_result"
    }
   ],
   "source": [
    "translator_id_en = pipeline(\"translation\", model=\"Helsinki-NLP/opus-mt-id-en\")\n",
    "\n",
    "text_to_translate = \"\"\"\n",
    "    Presiden Prabowo Subianto telah membentuk 85 kantor satuan layanan program\n",
    "    Makan Gizi Gratis yang kini sedang diuji coba di seluruh provinsi. Menteri\n",
    "    Sekretaris Negara (Mensesneg) Prasetyo Hadi menyebut satuan layanan itu\n",
    "    disiapkan menjelang pelaksanaan program pada awal Januari 2025.\n",
    "    \"\"\"\n",
    "\n",
    "result_id_en = translator_id_en(text_to_translate)\n",
    "result_id_en[0]['translation_text']"
   ]
  },
  {
   "cell_type": "markdown",
   "metadata": {},
   "source": [
    "# Analysis"
   ]
  },
  {
   "cell_type": "markdown",
   "metadata": {},
   "source": [
    "### 1. Zero Shot Classification\n",
    "Klasifikasi ini merupakan klasifikasi dalam NLP yang menggunakan teknik zero shot, yaitu pemberian tugas pada ke model tanpa adanya contoh sebelumnya yang relevan. Hal  menarik yang Saya temukan adalah mungkin secara tidak sadar kita sering menggunakan teknik ini ketika melakukan *prompting*, terutama ketika baru saja menggunakan layanan LLM. Teknik ini dapat digunakan untuk mengukur kualitas model karena jawaban yang diberikan dapat menunjukan seberapa baik pemahaman model terhadap bahasa manusia yang pastinya sangat rentan terhadap *noise*, dikarenakan tiap manusia memiliki cara atau penyampaian tulisan yang unik. <br>\n",
    "Pada percobaan yang dilakukan, model melakukan klasifikasi dengan baik karena dapat mengetahui bahwa konteks yang diberikan merupakan konteks mengenai basket (Golde State Warriors merupakan tim basket)\n",
    "<br><br>\n",
    "\n",
    "### 2. Text generation\n",
    "Text generation merupakan suatu teknik yang digunakan untuk men-*generate* teks sesuai dengan *prompt* yang diberikan. Pada umumnya, model yang digunakan untuk *text generation* menggunakan arsitektur *transformer* bertipe *decoder-only*, contohnya seperti ChatGPT. Pada arsitektur ini, untuk men-generate kata selanjutnya dilakukan kalkulasi terlebih dahulu kata demi kata untuk menghasilkan kata selanjutnya. <br>\n",
    "Secara umum, arsitektur ini bekerja dengan cara memecah teks menjadi per kata (token) dan akan diubah ke dalam format numerik, serta posisi dari masing-masing kata juga disimpan dengan kalkulasi tertentu. Setelah itu, kalkulasi akan bekerja dengan MHA (*Masked Head Attention*) untuk memastikan kata berikutnya tidak dipengaruhi oleh kata-kata setelahnya, sehingga hanya dipengaruhi oleh kata-kata sebelumnya, lalu masuk ke normalisasi dan penambahan *residual connections* untuk menjaga stabilitas nilai, serta dilakukan *feedforward* untuk memperkaya representasi kata. Setelah itu, baru masuk ke fungsi linear & softmax, dan akhirnya diambil probabilitas tertinggi sebagai kata berikutnya. <br>\n",
    "Pada percobaan ini, hasil dari *text generation* sangat buruk dikarenakan output yang dihasilkan berbeda jauh dengan konteks yang diberikan.\n",
    "<br><br>\n",
    "\n",
    "### 3. Fill mask\n",
    "Ingat ketika kita mengerjakan soal-soal isian singkat di zaman sekolah dasar? Kurang lebih seperti itu konsep kerja dari teknik ini. Teknik ini bekerja dengan cara mengisi kekosongan kata pada *prompt* yang ditandai dengan kata kunci <mask>. <br>\n",
    "Pada percobaan yang dilakukan, hasil yang dikeluarkan bisa dibilang cukup buruk karena jawaban yang dihasilkan tidak berkorelasi dengan kalimat sebelum dan setelahnya. <br>\n",
    "Mungkin boleh dicoba dengan soal SD ya :D\n",
    "<br><br>\n",
    "\n",
    "### 4. NER (Named Entity Recognition)\n",
    "NER merupakan teknik yang dilakukan untuk klasifikasi setiap kata pada suatu teks ke dalam beberapa bagian, yaitu PER (Person), LOC (Location), ORG (Organization), MISC (Miscellanous), DATE, TIME, MONEY, PERCENT, dan GPE (Geopolitical Entity). <br>\n",
    "Pada percobaan yang dilakukan, model telah mengelompokan kata-kata dengan baik, namun tidak lengkap dalam melakukan pengelompokan, seperti aple community yang seharusnya organisasi dan Depok yang seharusnya Lokasi (mungkin modelnya ga kenal depok hehehe :D)\n",
    "<br><br>\n",
    "\n",
    "### 5. Question Answering\n",
    "Merupakan teknik yang dapat menjawab persoalan-persoalan yang terdapat pada konteks yang diberikan.\n",
    "Pada percobaan ini, Saya menggunakan 2 bahasa untuk menguji pemahaman model, yaitu bahasa Indonesia dan juga bahasa Inggris. Konteks yang digunakan adalah biografi singkat seorang penyanyi, yaitu Rafi Sudirman. <br>\n",
    "Hasilnya adalah model dengan konteks dan pertanyaan menggunakan bahasa inggris lebih baik ketimbang bahasa indonesia. Dengan pertanyaan yang sama, model yang menerima konteks dan pertanyaan dengan bahasa inggris dapat menjawab pertanyaan dengan benar, sedangkan yang menggunakan bahasa Indonesia menjawab soal dengan salah. Jadi dapat disimpulkan bahwa model akan bekerja lebih baik jika menggunakan bahasa inggris.\n",
    "<br><br>\n",
    "\n",
    "### 6. Sentiment Analysis\n",
    "Sentiment Analysis merupakan teknik yang digunakan untuk mengidentifikasi sentimen suatu teks. Teknik ini dapat digunakan untuk mengetahui persepsi seseorang terhadap suatu hal, contohnya persepsi seseorang terhadap kedai makan lewat penilaian, atau tempat lainnya. Teknik ini banyak dijumpai pada skripsi di bidang IT. <br>\n",
    "Pada percobaan ini, model diminta untuk menganalisis suatu teks tentang penilaian timnas sepak bola di era Shin Tae-Yong. Hasilnya model dapat melakukan klasifikasi dengan benar. \n",
    "<br><br>\n",
    "\n",
    "### 7. Summarization\n",
    "Merupakan teknik yang sangat menarik dan memiliki kebermanfaatan tinggi bagi beberapa orang karena dapat merangkum seluruh intisari-intisari dalam suatu dokumen atau teks.<br>\n",
    "Pada percobaan ini, teks yang digunakan mengenai makna logo UPN Veteran Jakarta dan menggunakan bahasa inggris. Hasil dari summarization menunjukan bahwa model yang digunakan tidak cukup baik untuk merangkum poin-poin pada teks dikarenakan rangkuman yang dihasilkan tidak menyeluruh, sehingga terdapat simbol yang tidak masuk ke dalam kesimpulan. \n",
    "<br><br>\n",
    "\n",
    "### 8. Translation\n",
    "Teknik ini bisa dibilang juga memiliki kebermanfaatan yang tinggi dikarenakan dapat mengubah suatu teks dari suatu bahasa ke bahasa lainnya. <br>\n",
    "Hasil percobaan menunjukan bahwa model dapat menerjemahkan teks dengan sangat baik dikarenakan terjemahan yang dihasilkan benar.\n",
    "<br><br>"
   ]
  }
 ],
 "metadata": {
  "colab": {
   "provenance": []
  },
  "kernelspec": {
   "display_name": "Python 3",
   "name": "python3"
  },
  "language_info": {
   "name": "python"
  }
 },
 "nbformat": 4,
 "nbformat_minor": 0
}
